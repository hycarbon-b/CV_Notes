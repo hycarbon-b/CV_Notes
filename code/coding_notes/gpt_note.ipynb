{
 "cells": [
  {
   "cell_type": "markdown",
   "metadata": {},
   "source": [
    "在Seaborn中，你可以使用`set_style()`函数来设置样式。这个函数有四个预设的主题：`darkgrid`, `whitegrid`, `dark`, `white`, 和 `ticks`。下面是一个例子：\n",
    "\n"
   ]
  },
  {
   "cell_type": "code",
   "execution_count": null,
   "metadata": {},
   "outputs": [],
   "source": [
    "import seaborn as sns\n",
    "\n",
    "# 设置样式\n",
    "sns.set_style(\"whitegrid\")\n",
    "sns.set(style=\"whitegrid\", palette=\"pastel\", color_codes=True)\n",
    "\n",
    "# 然后你可以继续创建你的图表"
   ]
  },
  {
   "cell_type": "markdown",
   "metadata": {},
   "source": [
    "在科研中，我们通常希望图表清晰、简洁，颜色对比度高，易于在黑白打印中区分。下面是一个适合科研的Seaborn样式设置：\n",
    "\n",
    "这个设置使用了\"whitegrid\"样式，这是一个带有水平网格线的白色背景，可以帮助我们更好地估计图表中的值。\"bright\"调色板提供了一组明亮的颜色，可以在黑白打印中保持区分度。字体大小设置为1.5倍的默认大小，以便于阅读。最后，颜色代码设置为True，这样在绘制图表时，我们可以直接使用颜色的名称来指定颜色。\n"
   ]
  },
  {
   "cell_type": "code",
   "execution_count": null,
   "metadata": {},
   "outputs": [],
   "source": [
    "import seaborn as sns\n",
    "\n",
    "# 设置样式\n",
    "sns.set_style(\"whitegrid\")\n",
    "\n",
    "# 设置调色板\n",
    "sns.set_palette(\"bright\")\n",
    "\n",
    "# 设置字体大小\n",
    "sns.set_context(\"paper\", font_scale=1.5)\n",
    "\n",
    "# 设置颜色代码\n",
    "sns.set(color_codes=True)"
   ]
  },
  {
   "cell_type": "markdown",
   "metadata": {},
   "source": [
    "以下是一个简单的Tkinter入门使用案例，它创建了一个窗口并在窗口中添加了一个标签和一个按钮：\n",
    "\n"
   ]
  },
  {
   "cell_type": "code",
   "execution_count": null,
   "metadata": {},
   "outputs": [],
   "source": [
    "import tkinter as tk\n",
    "\n",
    "def say_hello():\n",
    "    print(\"Hello, Tkinter!\")\n",
    "\n",
    "# 创建主窗口\n",
    "root = tk.Tk()\n",
    "\n",
    "# 创建一个标签\n",
    "label = tk.Label(root, text=\"Hello, Tkinter!\")\n",
    "label.pack()\n",
    "\n",
    "# 创建一个按钮，点击时调用say_hello函数\n",
    "button = tk.Button(root, text=\"Click me\", command=say_hello)\n",
    "button.pack()\n",
    "\n",
    "# 运行主循环\n",
    "root.mainloop()"
   ]
  },
  {
   "cell_type": "markdown",
   "metadata": {},
   "source": [
    "\n",
    "\n",
    "在这个例子中，我们首先导入了tkinter模块。然后定义了一个函数say_hello，这个函数会在控制台打印一条消息。接着，我们创建了一个主窗口，然后在窗口中添加了一个标签和一个按钮。最后，我们启动了Tkinter的主循环，这个循环会持续运行，直到窗口被关闭。"
   ]
  }
 ],
 "metadata": {
  "language_info": {
   "name": "python"
  }
 },
 "nbformat": 4,
 "nbformat_minor": 2
}
