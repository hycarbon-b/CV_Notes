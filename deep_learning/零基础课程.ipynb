{
 "cells": [
  {
   "cell_type": "markdown",
   "metadata": {},
   "source": [
    "## 环境配置\n",
    "Python  \n",
    "Pip  \n",
    "VS Code  \n",
    "Extension：Python /Jupyter /SSH Remote  \n",
    "Kaggle"
   ]
  },
  {
   "cell_type": "markdown",
   "metadata": {},
   "source": [
    "### Pytorch\n",
    "Tensor  \n",
    "img text audio video ... -> tensor  \n",
    "img:   \n",
    "    二维tensor： pixel intensity \n",
    "    三维tensor： channel [[width,height] [width,height] [width,height]]\n",
    "    img (224,224,3)  \n",
    "\n",
    "1. Forward/Backpropagation\n",
    "    $$\n",
    "    f(\\vec{x};a) = \\vec{y}\n",
    "\n",
    "    $$\n",
    "    loss : pred label 的差异  ground truth\n",
    "    $$\n",
    "    loss(a;\\vec{y}, \\vec{gt})\n",
    "    $$\n",
    "    loss ： MSE $(y - gt)^2$、RMSE、L1 、CrossEntropy    \n",
    "    label: vector[], 向量的每一位对应一个logit，值的大小视作该类别的概率    \n",
    "    Update a 梯度下降（自动实现），a是整个nn Module计算时的参数（网络权重）\n",
    "    \n",
    "2. nn module\n",
    "    抽象的计算结构 $\\vec{y} = nnModule(\\vec{x})$  \n",
    "    nn module 可以作为基础神经计算单元、网络层、网络结构、多个网络的复合体等一切在Pytorch中的计算结构\n",
    "    \n",
    "\n",
    "3. Process  \n",
    "    Data Preprocessing: png jpg nii ...... -> tensor\n",
    "    Foward\n",
    "    Backp\n",
    "    Repeat\n",
    "\n",
    "    Data Preprocessing: png jpg nii ...... -> tensor\n",
    "    Data stack & Data load \n",
    "    Foward\n",
    "    Backp\n",
    "    Repeat\n"
   ]
  },
  {
   "cell_type": "markdown",
   "metadata": {},
   "source": [
    "## One-hot/logits\n",
    "车的型号：A B C D E F G \n",
    "1. [1~7] 先验\n",
    "2. [0000001] [0000010] [0000100] 无先验\n",
    "a b c\n",
    "pred=[0.2 0.3 0.9]\n",
    "gt = [0 0 1]\n"
   ]
  },
  {
   "cell_type": "code",
   "execution_count": null,
   "metadata": {},
   "outputs": [],
   "source": [
    "class net1(nn.Module):\n",
    "    def __init__(self):\n",
    "        super().__init__()\n",
    "        self.flatten = nn.Flatten()\n",
    "        self.linear_relu_stack = nn.Sequential(\n",
    "            nn.Linear(28*28, 512),\n",
    "            nn.ReLU(),\n",
    "            nn.Linear(512, 512),\n",
    "            nn.ReLU(),\n",
    "            nn.Linear(512, 10),\n",
    "        )\n",
    "\n",
    "    def forward(self, x):\n",
    "        x = self.flatten(x)\n",
    "        logits = self.linear_relu_stack(x)\n",
    "        return logits\n",
    "\n",
    "\n",
    "class myDataset():\n",
    "    def __init__(self):\n",
    "        pass\n",
    "    def __getitem__(self, idx):\n",
    "        pass\n",
    "        return tensor, label\n",
    "# getitem ：编号 返回样本和GT\n",
    "\n",
    "dataloader = DataLoader(myDataset, batch_size=32, shuffle=True)\n",
    "# batch_size =32 , 32个sample叠到一个tensor，label叠到一个tensor\n",
    "# tensor1 tensor2 tensor3 ... tensor32\n",
    "# label1 label2 label3 ... label32\n",
    "# new_tensor [tensor1,tensor2,tensor3,...,tensor32] new_label [label1,label2,label3,...,label32]\n",
    "# new tesnor[0]= tensor[0] \n",
    "# new_tensor  (32,28,28) label(32,1)                        (28,28) (1)\n",
    "\n",
    "#dataloader = [(new_tensor, new_label) , (new_tensor, new_label) , (new_tensor, new_label) , ...]\n",
    "\n",
    "def train_loop(dataloader, model, loss_fn, optimizer):\n",
    "    # Set the model to training mode - important for batch normalization and dropout layers\n",
    "    # Unnecessary in this situation but added for best practices\n",
    "    model.train()\n",
    "    for batch, (X, y) in enumerate(dataloader):\n",
    "        # Compute prediction and loss\n",
    "        pred = model(X)\n",
    "        loss_fn = nn.CrossEntropyLoss()\n",
    "        loss = loss_fn(pred, y) + nn.MSELoss(pred, y)\n",
    "\n",
    "        # Backpropagation\n",
    "        loss.backward()\n",
    "        optimizer.step()\n",
    "        optimizer.zero_grad()\n",
    "\n",
    "        if batch % 100 == 0:\n",
    "            print(loss)"
   ]
  },
  {
   "cell_type": "markdown",
   "metadata": {},
   "source": [
    "import \n",
    "randomforest\n",
    "regression classfication"
   ]
  },
  {
   "cell_type": "markdown",
   "metadata": {},
   "source": []
  },
  {
   "cell_type": "code",
   "execution_count": 16,
   "metadata": {},
   "outputs": [
    {
     "name": "stdout",
     "output_type": "stream",
     "text": [
      "first\n"
     ]
    }
   ],
   "source": [
    "print('first')\n"
   ]
  },
  {
   "cell_type": "code",
   "execution_count": 15,
   "metadata": {},
   "outputs": [
    {
     "name": "stdout",
     "output_type": "stream",
     "text": [
      "0\n",
      "1\n",
      "2\n",
      "3\n",
      "4\n",
      "5\n",
      "6\n",
      "7\n",
      "8\n",
      "9\n"
     ]
    }
   ],
   "source": [
    "for i in range(10):\n",
    "    print(i)"
   ]
  },
  {
   "cell_type": "markdown",
   "metadata": {},
   "source": [
    "import os\n",
    "print(os.listdir())"
   ]
  },
  {
   "cell_type": "code",
   "execution_count": 18,
   "metadata": {},
   "outputs": [
    {
     "name": "stdout",
     "output_type": "stream",
     "text": [
      "['$Recycle.Bin', '$SysReset', '$WinREAgent', 'config.ini', 'Documents and Settings', 'DRIVER', 'Drivers', 'DumpStack.log', 'DumpStack.log.tmp', 'hiberfil.sys', 'Intel', 'LenovoDrivers', 'LenovoQMDownload', 'OneDriveTemp', 'pagefile.sys', 'PerfLogs', 'Program Files', 'Program Files (x86)', 'ProgramData', 'Recovery', 'swapfile.sys', 'System Volume Information', 'Temp', 'Users', 'Windows', 'XmpCache']\n"
     ]
    }
   ],
   "source": [
    "import os\n",
    "print(os.listdir('c://'))\n",
    "nn.si"
   ]
  },
  {
   "cell_type": "code",
   "execution_count": null,
   "metadata": {},
   "outputs": [],
   "source": [
    "# 读取csv\n",
    "import pandas as pd\n",
    "df = pd.read_csv('c://test.csv')\n",
    "# 读取列\n",
    "import matplotlib.pyplot as plt"
   ]
  },
  {
   "cell_type": "code",
   "execution_count": 3,
   "metadata": {},
   "outputs": [
    {
     "name": "stdout",
     "output_type": "stream",
     "text": [
      "c:\\Users\\a\\AppData\\Local\\Programs\\Microsoft VS Code\n"
     ]
    }
   ],
   "source": [
    "\n",
    "# 用iat读取一整行的所有\n",
    "\n",
    "# os文件重命名\n",
    "\n",
    "torch.load()"
   ]
  },
  {
   "cell_type": "markdown",
   "metadata": {},
   "source": [
    "import"
   ]
  }
 ],
 "metadata": {
  "kernelspec": {
   "display_name": "Python 3",
   "language": "python",
   "name": "python3"
  },
  "language_info": {
   "codemirror_mode": {
    "name": "ipython",
    "version": 3
   },
   "file_extension": ".py",
   "mimetype": "text/x-python",
   "name": "python",
   "nbconvert_exporter": "python",
   "pygments_lexer": "ipython3",
   "version": "3.12.1"
  }
 },
 "nbformat": 4,
 "nbformat_minor": 2
}
