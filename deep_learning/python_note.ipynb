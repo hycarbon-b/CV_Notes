{
 "cells": [
  {
   "cell_type": "markdown",
   "metadata": {},
   "source": [
    "nii文件解析"
   ]
  },
  {
   "cell_type": "code",
   "execution_count": null,
   "metadata": {},
   "outputs": [],
   "source": [
    "import nibabel as nib\n",
    "import matplotlib.pyplot as plt\n",
    "\n",
    "# 读取NIfTI文件\n",
    "nii_file_path = 'example.nii.gz'\n",
    "img = nib.load(nii_file_path)\n",
    "\n",
    "# 获取图像数据\n",
    "data = img.get_fdata()\n",
    "\n",
    "# 获取头文件信息\n",
    "header = img.header\n",
    "\n",
    "# 打印头文件信息\n",
    "print(\"Header Information:\")\n",
    "print(header)\n",
    "\n",
    "# 可视化图像数据（假设是3D图像）\n",
    "slice_index = 50\n",
    "plt.imshow(data[:, :, slice_index], cmap='gray')\n",
    "plt.title('NIfTI Data Visualization')\n",
    "plt.colorbar()\n",
    "plt.show()"
   ]
  }
 ],
 "metadata": {
  "language_info": {
   "name": "python"
  }
 },
 "nbformat": 4,
 "nbformat_minor": 2
}
